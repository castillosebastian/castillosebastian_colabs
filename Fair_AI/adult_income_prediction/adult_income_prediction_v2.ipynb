{
 "cells": [
  {
   "attachments": {},
   "cell_type": "markdown",
   "metadata": {},
   "source": [
    "[![Open In Colab](https://colab.research.google.com/assets/colab-badge.svg)](https://github.com/castillosebastian/castillosebastian_colabs/blob/main/adult_income_prediction/adult_income_prediction.ipynb)"
   ]
  },
  {
   "attachments": {},
   "cell_type": "markdown",
   "metadata": {},
   "source": [
    "# Fair IA: An Exploration"
   ]
  },
  {
   "attachments": {},
   "cell_type": "markdown",
   "metadata": {},
   "source": [
    "## EDA"
   ]
  },
  {
   "attachments": {},
   "cell_type": "markdown",
   "metadata": {},
   "source": [
    "We are goint to test 'fair-ml' algorithms. We are going to work with *Adult* dataset (Dua & Graff, 2017) used to predict whether income exceeds $50K/yr based on census data. Also known as \"Census Income\" dataset Train dataset contains 13 features and 30178 observations. Test dataset contains 13 features and 15315 observations. Target column is \"target\": A binary factor where 1: <=50K and 2: >50K for annual income. The column \"sex\" is set as protected attribute."
   ]
  },
  {
   "cell_type": "code",
   "execution_count": 10,
   "metadata": {},
   "outputs": [],
   "source": [
    "import pandas as pd\n",
    "url = 'https://archive.ics.uci.edu/ml/machine-learning-databases/adult/adult.data'\n",
    "names = [\n",
    "        'age', 'workclass', 'fnlwgt', 'education', \n",
    "        'education-num', 'marital-status', 'occupation',\n",
    "        'relationship', 'race', 'sex', 'capital-gain', \n",
    "        'capital-loss', 'hours-per-week', 'native-country',\n",
    "        'annual-income'\n",
    "    ]\n",
    "data = pd.read_csv(url, sep=',', names=names)"
   ]
  },
  {
   "cell_type": "code",
   "execution_count": 11,
   "metadata": {},
   "outputs": [
    {
     "data": {
      "text/html": [
       "<div>\n",
       "<style scoped>\n",
       "    .dataframe tbody tr th:only-of-type {\n",
       "        vertical-align: middle;\n",
       "    }\n",
       "\n",
       "    .dataframe tbody tr th {\n",
       "        vertical-align: top;\n",
       "    }\n",
       "\n",
       "    .dataframe thead th {\n",
       "        text-align: right;\n",
       "    }\n",
       "</style>\n",
       "<table border=\"1\" class=\"dataframe\">\n",
       "  <thead>\n",
       "    <tr style=\"text-align: right;\">\n",
       "      <th></th>\n",
       "      <th>age</th>\n",
       "      <th>workclass</th>\n",
       "      <th>fnlwgt</th>\n",
       "      <th>education</th>\n",
       "      <th>education-num</th>\n",
       "      <th>marital-status</th>\n",
       "      <th>occupation</th>\n",
       "      <th>relationship</th>\n",
       "      <th>race</th>\n",
       "      <th>sex</th>\n",
       "      <th>capital-gain</th>\n",
       "      <th>capital-loss</th>\n",
       "      <th>hours-per-week</th>\n",
       "      <th>native-country</th>\n",
       "      <th>annual-income</th>\n",
       "    </tr>\n",
       "  </thead>\n",
       "  <tbody>\n",
       "    <tr>\n",
       "      <th>0</th>\n",
       "      <td>39</td>\n",
       "      <td>State-gov</td>\n",
       "      <td>77516</td>\n",
       "      <td>Bachelors</td>\n",
       "      <td>13</td>\n",
       "      <td>Never-married</td>\n",
       "      <td>Adm-clerical</td>\n",
       "      <td>Not-in-family</td>\n",
       "      <td>White</td>\n",
       "      <td>Male</td>\n",
       "      <td>2174</td>\n",
       "      <td>0</td>\n",
       "      <td>40</td>\n",
       "      <td>United-States</td>\n",
       "      <td>&lt;=50K</td>\n",
       "    </tr>\n",
       "    <tr>\n",
       "      <th>1</th>\n",
       "      <td>50</td>\n",
       "      <td>Self-emp-not-inc</td>\n",
       "      <td>83311</td>\n",
       "      <td>Bachelors</td>\n",
       "      <td>13</td>\n",
       "      <td>Married-civ-spouse</td>\n",
       "      <td>Exec-managerial</td>\n",
       "      <td>Husband</td>\n",
       "      <td>White</td>\n",
       "      <td>Male</td>\n",
       "      <td>0</td>\n",
       "      <td>0</td>\n",
       "      <td>13</td>\n",
       "      <td>United-States</td>\n",
       "      <td>&lt;=50K</td>\n",
       "    </tr>\n",
       "    <tr>\n",
       "      <th>2</th>\n",
       "      <td>38</td>\n",
       "      <td>Private</td>\n",
       "      <td>215646</td>\n",
       "      <td>HS-grad</td>\n",
       "      <td>9</td>\n",
       "      <td>Divorced</td>\n",
       "      <td>Handlers-cleaners</td>\n",
       "      <td>Not-in-family</td>\n",
       "      <td>White</td>\n",
       "      <td>Male</td>\n",
       "      <td>0</td>\n",
       "      <td>0</td>\n",
       "      <td>40</td>\n",
       "      <td>United-States</td>\n",
       "      <td>&lt;=50K</td>\n",
       "    </tr>\n",
       "    <tr>\n",
       "      <th>3</th>\n",
       "      <td>53</td>\n",
       "      <td>Private</td>\n",
       "      <td>234721</td>\n",
       "      <td>11th</td>\n",
       "      <td>7</td>\n",
       "      <td>Married-civ-spouse</td>\n",
       "      <td>Handlers-cleaners</td>\n",
       "      <td>Husband</td>\n",
       "      <td>Black</td>\n",
       "      <td>Male</td>\n",
       "      <td>0</td>\n",
       "      <td>0</td>\n",
       "      <td>40</td>\n",
       "      <td>United-States</td>\n",
       "      <td>&lt;=50K</td>\n",
       "    </tr>\n",
       "    <tr>\n",
       "      <th>4</th>\n",
       "      <td>28</td>\n",
       "      <td>Private</td>\n",
       "      <td>338409</td>\n",
       "      <td>Bachelors</td>\n",
       "      <td>13</td>\n",
       "      <td>Married-civ-spouse</td>\n",
       "      <td>Prof-specialty</td>\n",
       "      <td>Wife</td>\n",
       "      <td>Black</td>\n",
       "      <td>Female</td>\n",
       "      <td>0</td>\n",
       "      <td>0</td>\n",
       "      <td>40</td>\n",
       "      <td>Cuba</td>\n",
       "      <td>&lt;=50K</td>\n",
       "    </tr>\n",
       "  </tbody>\n",
       "</table>\n",
       "</div>"
      ],
      "text/plain": [
       "   age          workclass  fnlwgt   education  education-num  \\\n",
       "0   39          State-gov   77516   Bachelors             13   \n",
       "1   50   Self-emp-not-inc   83311   Bachelors             13   \n",
       "2   38            Private  215646     HS-grad              9   \n",
       "3   53            Private  234721        11th              7   \n",
       "4   28            Private  338409   Bachelors             13   \n",
       "\n",
       "        marital-status          occupation    relationship    race      sex  \\\n",
       "0        Never-married        Adm-clerical   Not-in-family   White     Male   \n",
       "1   Married-civ-spouse     Exec-managerial         Husband   White     Male   \n",
       "2             Divorced   Handlers-cleaners   Not-in-family   White     Male   \n",
       "3   Married-civ-spouse   Handlers-cleaners         Husband   Black     Male   \n",
       "4   Married-civ-spouse      Prof-specialty            Wife   Black   Female   \n",
       "\n",
       "   capital-gain  capital-loss  hours-per-week  native-country annual-income  \n",
       "0          2174             0              40   United-States         <=50K  \n",
       "1             0             0              13   United-States         <=50K  \n",
       "2             0             0              40   United-States         <=50K  \n",
       "3             0             0              40   United-States         <=50K  \n",
       "4             0             0              40            Cuba         <=50K  "
      ]
     },
     "execution_count": 11,
     "metadata": {},
     "output_type": "execute_result"
    }
   ],
   "source": [
    "data.head()"
   ]
  },
  {
   "cell_type": "code",
   "execution_count": 14,
   "metadata": {},
   "outputs": [
    {
     "data": {
      "text/plain": [
       "annual-income\n",
       " <=50K    24720\n",
       " >50K      7841\n",
       "Name: count, dtype: int64"
      ]
     },
     "execution_count": 14,
     "metadata": {},
     "output_type": "execute_result"
    }
   ],
   "source": [
    "data['annual-income'].value_counts()"
   ]
  },
  {
   "attachments": {},
   "cell_type": "markdown",
   "metadata": {},
   "source": [
    "The dataset is imbalanced: 25% make at least $50k per year"
   ]
  },
  {
   "attachments": {},
   "cell_type": "markdown",
   "metadata": {},
   "source": [
    "This imbalanced is also strongly related to *sex* and *race* as shown here: "
   ]
  },
  {
   "cell_type": "code",
   "execution_count": 17,
   "metadata": {},
   "outputs": [
    {
     "data": {
      "text/html": [
       "<div>\n",
       "<style scoped>\n",
       "    .dataframe tbody tr th:only-of-type {\n",
       "        vertical-align: middle;\n",
       "    }\n",
       "\n",
       "    .dataframe tbody tr th {\n",
       "        vertical-align: top;\n",
       "    }\n",
       "\n",
       "    .dataframe thead th {\n",
       "        text-align: right;\n",
       "    }\n",
       "</style>\n",
       "<table border=\"1\" class=\"dataframe\">\n",
       "  <thead>\n",
       "    <tr style=\"text-align: right;\">\n",
       "      <th></th>\n",
       "      <th>annual-income</th>\n",
       "      <th>sex</th>\n",
       "      <th>count</th>\n",
       "      <th>percentage</th>\n",
       "    </tr>\n",
       "  </thead>\n",
       "  <tbody>\n",
       "    <tr>\n",
       "      <th>0</th>\n",
       "      <td>&lt;=50K</td>\n",
       "      <td>Male</td>\n",
       "      <td>15128</td>\n",
       "      <td>46.460490</td>\n",
       "    </tr>\n",
       "    <tr>\n",
       "      <th>1</th>\n",
       "      <td>&lt;=50K</td>\n",
       "      <td>Female</td>\n",
       "      <td>9592</td>\n",
       "      <td>29.458555</td>\n",
       "    </tr>\n",
       "    <tr>\n",
       "      <th>2</th>\n",
       "      <td>&gt;50K</td>\n",
       "      <td>Male</td>\n",
       "      <td>6662</td>\n",
       "      <td>20.460060</td>\n",
       "    </tr>\n",
       "    <tr>\n",
       "      <th>3</th>\n",
       "      <td>&gt;50K</td>\n",
       "      <td>Female</td>\n",
       "      <td>1179</td>\n",
       "      <td>3.620896</td>\n",
       "    </tr>\n",
       "  </tbody>\n",
       "</table>\n",
       "</div>"
      ],
      "text/plain": [
       "  annual-income      sex  count  percentage\n",
       "0         <=50K     Male  15128   46.460490\n",
       "1         <=50K   Female   9592   29.458555\n",
       "2          >50K     Male   6662   20.460060\n",
       "3          >50K   Female   1179    3.620896"
      ]
     },
     "execution_count": 17,
     "metadata": {},
     "output_type": "execute_result"
    }
   ],
   "source": [
    "(imbal_sex := data.groupby(['annual-income', 'sex']).size() \n",
    "   .sort_values(ascending=False) \n",
    "   .reset_index(name='count')\n",
    "   .assign(percentage = lambda df:100 * df['count']/df['count'].sum())   \n",
    "   )"
   ]
  },
  {
   "cell_type": "code",
   "execution_count": 18,
   "metadata": {},
   "outputs": [
    {
     "data": {
      "text/html": [
       "<div>\n",
       "<style scoped>\n",
       "    .dataframe tbody tr th:only-of-type {\n",
       "        vertical-align: middle;\n",
       "    }\n",
       "\n",
       "    .dataframe tbody tr th {\n",
       "        vertical-align: top;\n",
       "    }\n",
       "\n",
       "    .dataframe thead th {\n",
       "        text-align: right;\n",
       "    }\n",
       "</style>\n",
       "<table border=\"1\" class=\"dataframe\">\n",
       "  <thead>\n",
       "    <tr style=\"text-align: right;\">\n",
       "      <th></th>\n",
       "      <th>annual-income</th>\n",
       "      <th>race</th>\n",
       "      <th>count</th>\n",
       "      <th>percentage</th>\n",
       "    </tr>\n",
       "  </thead>\n",
       "  <tbody>\n",
       "    <tr>\n",
       "      <th>0</th>\n",
       "      <td>&lt;=50K</td>\n",
       "      <td>White</td>\n",
       "      <td>20699</td>\n",
       "      <td>63.569915</td>\n",
       "    </tr>\n",
       "    <tr>\n",
       "      <th>1</th>\n",
       "      <td>&gt;50K</td>\n",
       "      <td>White</td>\n",
       "      <td>7117</td>\n",
       "      <td>21.857437</td>\n",
       "    </tr>\n",
       "    <tr>\n",
       "      <th>2</th>\n",
       "      <td>&lt;=50K</td>\n",
       "      <td>Black</td>\n",
       "      <td>2737</td>\n",
       "      <td>8.405761</td>\n",
       "    </tr>\n",
       "    <tr>\n",
       "      <th>3</th>\n",
       "      <td>&lt;=50K</td>\n",
       "      <td>Asian-Pac-Islander</td>\n",
       "      <td>763</td>\n",
       "      <td>2.343294</td>\n",
       "    </tr>\n",
       "    <tr>\n",
       "      <th>4</th>\n",
       "      <td>&gt;50K</td>\n",
       "      <td>Black</td>\n",
       "      <td>387</td>\n",
       "      <td>1.188538</td>\n",
       "    </tr>\n",
       "    <tr>\n",
       "      <th>5</th>\n",
       "      <td>&gt;50K</td>\n",
       "      <td>Asian-Pac-Islander</td>\n",
       "      <td>276</td>\n",
       "      <td>0.847640</td>\n",
       "    </tr>\n",
       "    <tr>\n",
       "      <th>6</th>\n",
       "      <td>&lt;=50K</td>\n",
       "      <td>Amer-Indian-Eskimo</td>\n",
       "      <td>275</td>\n",
       "      <td>0.844569</td>\n",
       "    </tr>\n",
       "    <tr>\n",
       "      <th>7</th>\n",
       "      <td>&lt;=50K</td>\n",
       "      <td>Other</td>\n",
       "      <td>246</td>\n",
       "      <td>0.755505</td>\n",
       "    </tr>\n",
       "    <tr>\n",
       "      <th>8</th>\n",
       "      <td>&gt;50K</td>\n",
       "      <td>Amer-Indian-Eskimo</td>\n",
       "      <td>36</td>\n",
       "      <td>0.110562</td>\n",
       "    </tr>\n",
       "    <tr>\n",
       "      <th>9</th>\n",
       "      <td>&gt;50K</td>\n",
       "      <td>Other</td>\n",
       "      <td>25</td>\n",
       "      <td>0.076779</td>\n",
       "    </tr>\n",
       "  </tbody>\n",
       "</table>\n",
       "</div>"
      ],
      "text/plain": [
       "  annual-income                 race  count  percentage\n",
       "0         <=50K                White  20699   63.569915\n",
       "1          >50K                White   7117   21.857437\n",
       "2         <=50K                Black   2737    8.405761\n",
       "3         <=50K   Asian-Pac-Islander    763    2.343294\n",
       "4          >50K                Black    387    1.188538\n",
       "5          >50K   Asian-Pac-Islander    276    0.847640\n",
       "6         <=50K   Amer-Indian-Eskimo    275    0.844569\n",
       "7         <=50K                Other    246    0.755505\n",
       "8          >50K   Amer-Indian-Eskimo     36    0.110562\n",
       "9          >50K                Other     25    0.076779"
      ]
     },
     "execution_count": 18,
     "metadata": {},
     "output_type": "execute_result"
    }
   ],
   "source": [
    "(imbal_race := data.groupby(['annual-income', 'race']).size() \n",
    "   .sort_values(ascending=False) \n",
    "   .reset_index(name='count')\n",
    "   .assign(percentage = lambda df:100 * df['count']/df['count'].sum())   \n",
    "   )"
   ]
  },
  {
   "attachments": {},
   "cell_type": "markdown",
   "metadata": {},
   "source": [
    "# Simple Nural Network model folowing IBM Research\n",
    "\n",
    "Source [inFairness](https://github.com/IBM/inFairness/blob/main/examples/adult-income-prediction/adult_income_prediction.ipynb)"
   ]
  },
  {
   "cell_type": "code",
   "execution_count": 20,
   "metadata": {},
   "outputs": [
    {
     "name": "stdout",
     "output_type": "stream",
     "text": [
      "The autoreload extension is already loaded. To reload it, use:\n",
      "  %reload_ext autoreload\n"
     ]
    }
   ],
   "source": [
    "import torch\n",
    "import torch.nn as nn\n",
    "import torch.nn.functional as F\n",
    "\n",
    "from torch.utils.data import Dataset\n",
    "from torch.utils.data import DataLoader\n",
    "from tqdm.auto import tqdm\n",
    "\n",
    "from inFairness.fairalgo import SenSeI\n",
    "from inFairness import distances\n",
    "from inFairness.auditor import SenSRAuditor, SenSeIAuditor\n",
    "\n",
    "%load_ext autoreload\n",
    "%autoreload 2\n",
    "\n",
    "import data\n",
    "import metrics"
   ]
  },
  {
   "cell_type": "code",
   "execution_count": 21,
   "metadata": {},
   "outputs": [],
   "source": [
    "class AdultDataset(Dataset):\n",
    "    def __init__(self, data, labels):\n",
    "        self.data = data\n",
    "        self.labels = labels\n",
    "\n",
    "    def __getitem__(self, idx):\n",
    "        data = self.data[idx]\n",
    "        label = self.labels[idx]\n",
    "        return data, label\n",
    "    \n",
    "    def __len__(self):\n",
    "        return len(self.labels)"
   ]
  },
  {
   "attachments": {},
   "cell_type": "markdown",
   "metadata": {},
   "source": [
    "Note that the categorical variable are transformed into one-hot variables."
   ]
  },
  {
   "cell_type": "code",
   "execution_count": 22,
   "metadata": {},
   "outputs": [
    {
     "data": {
      "text/html": [
       "<div>\n",
       "<style scoped>\n",
       "    .dataframe tbody tr th:only-of-type {\n",
       "        vertical-align: middle;\n",
       "    }\n",
       "\n",
       "    .dataframe tbody tr th {\n",
       "        vertical-align: top;\n",
       "    }\n",
       "\n",
       "    .dataframe thead th {\n",
       "        text-align: right;\n",
       "    }\n",
       "</style>\n",
       "<table border=\"1\" class=\"dataframe\">\n",
       "  <thead>\n",
       "    <tr style=\"text-align: right;\">\n",
       "      <th></th>\n",
       "      <th>age</th>\n",
       "      <th>capital-gain</th>\n",
       "      <th>capital-loss</th>\n",
       "      <th>education-num</th>\n",
       "      <th>hours-per-week</th>\n",
       "      <th>marital-status_Divorced</th>\n",
       "      <th>marital-status_Married-AF-spouse</th>\n",
       "      <th>marital-status_Married-civ-spouse</th>\n",
       "      <th>marital-status_Married-spouse-absent</th>\n",
       "      <th>marital-status_Never-married</th>\n",
       "      <th>...</th>\n",
       "      <th>relationship_Own-child</th>\n",
       "      <th>relationship_Unmarried</th>\n",
       "      <th>relationship_Wife</th>\n",
       "      <th>workclass_Federal-gov</th>\n",
       "      <th>workclass_Local-gov</th>\n",
       "      <th>workclass_Private</th>\n",
       "      <th>workclass_Self-emp-inc</th>\n",
       "      <th>workclass_Self-emp-not-inc</th>\n",
       "      <th>workclass_State-gov</th>\n",
       "      <th>workclass_Without-pay</th>\n",
       "    </tr>\n",
       "  </thead>\n",
       "  <tbody>\n",
       "    <tr>\n",
       "      <th>0</th>\n",
       "      <td>0.409331</td>\n",
       "      <td>-0.14652</td>\n",
       "      <td>-0.218253</td>\n",
       "      <td>-1.613806</td>\n",
       "      <td>-0.496770</td>\n",
       "      <td>False</td>\n",
       "      <td>False</td>\n",
       "      <td>False</td>\n",
       "      <td>False</td>\n",
       "      <td>True</td>\n",
       "      <td>...</td>\n",
       "      <td>False</td>\n",
       "      <td>True</td>\n",
       "      <td>False</td>\n",
       "      <td>False</td>\n",
       "      <td>False</td>\n",
       "      <td>True</td>\n",
       "      <td>False</td>\n",
       "      <td>False</td>\n",
       "      <td>False</td>\n",
       "      <td>False</td>\n",
       "    </tr>\n",
       "    <tr>\n",
       "      <th>1</th>\n",
       "      <td>-1.104187</td>\n",
       "      <td>-0.14652</td>\n",
       "      <td>-0.218253</td>\n",
       "      <td>-0.050064</td>\n",
       "      <td>-1.741764</td>\n",
       "      <td>False</td>\n",
       "      <td>False</td>\n",
       "      <td>False</td>\n",
       "      <td>False</td>\n",
       "      <td>True</td>\n",
       "      <td>...</td>\n",
       "      <td>True</td>\n",
       "      <td>False</td>\n",
       "      <td>False</td>\n",
       "      <td>False</td>\n",
       "      <td>False</td>\n",
       "      <td>True</td>\n",
       "      <td>False</td>\n",
       "      <td>False</td>\n",
       "      <td>False</td>\n",
       "      <td>False</td>\n",
       "    </tr>\n",
       "    <tr>\n",
       "      <th>2</th>\n",
       "      <td>1.393118</td>\n",
       "      <td>-0.14652</td>\n",
       "      <td>-0.218253</td>\n",
       "      <td>-0.440999</td>\n",
       "      <td>2.574214</td>\n",
       "      <td>False</td>\n",
       "      <td>False</td>\n",
       "      <td>True</td>\n",
       "      <td>False</td>\n",
       "      <td>False</td>\n",
       "      <td>...</td>\n",
       "      <td>False</td>\n",
       "      <td>False</td>\n",
       "      <td>False</td>\n",
       "      <td>False</td>\n",
       "      <td>True</td>\n",
       "      <td>False</td>\n",
       "      <td>False</td>\n",
       "      <td>False</td>\n",
       "      <td>False</td>\n",
       "      <td>False</td>\n",
       "    </tr>\n",
       "    <tr>\n",
       "      <th>3</th>\n",
       "      <td>-0.423104</td>\n",
       "      <td>-0.14652</td>\n",
       "      <td>-0.218253</td>\n",
       "      <td>-0.440999</td>\n",
       "      <td>1.163221</td>\n",
       "      <td>False</td>\n",
       "      <td>False</td>\n",
       "      <td>True</td>\n",
       "      <td>False</td>\n",
       "      <td>False</td>\n",
       "      <td>...</td>\n",
       "      <td>False</td>\n",
       "      <td>False</td>\n",
       "      <td>False</td>\n",
       "      <td>False</td>\n",
       "      <td>False</td>\n",
       "      <td>True</td>\n",
       "      <td>False</td>\n",
       "      <td>False</td>\n",
       "      <td>False</td>\n",
       "      <td>False</td>\n",
       "    </tr>\n",
       "    <tr>\n",
       "      <th>4</th>\n",
       "      <td>-0.877159</td>\n",
       "      <td>-0.14652</td>\n",
       "      <td>-0.218253</td>\n",
       "      <td>1.122743</td>\n",
       "      <td>0.748224</td>\n",
       "      <td>False</td>\n",
       "      <td>False</td>\n",
       "      <td>True</td>\n",
       "      <td>False</td>\n",
       "      <td>False</td>\n",
       "      <td>...</td>\n",
       "      <td>False</td>\n",
       "      <td>False</td>\n",
       "      <td>False</td>\n",
       "      <td>False</td>\n",
       "      <td>False</td>\n",
       "      <td>False</td>\n",
       "      <td>False</td>\n",
       "      <td>True</td>\n",
       "      <td>False</td>\n",
       "      <td>False</td>\n",
       "    </tr>\n",
       "  </tbody>\n",
       "</table>\n",
       "<p>5 rows × 39 columns</p>\n",
       "</div>"
      ],
      "text/plain": [
       "        age  capital-gain  capital-loss  education-num  hours-per-week  \\\n",
       "0  0.409331      -0.14652     -0.218253      -1.613806       -0.496770   \n",
       "1 -1.104187      -0.14652     -0.218253      -0.050064       -1.741764   \n",
       "2  1.393118      -0.14652     -0.218253      -0.440999        2.574214   \n",
       "3 -0.423104      -0.14652     -0.218253      -0.440999        1.163221   \n",
       "4 -0.877159      -0.14652     -0.218253       1.122743        0.748224   \n",
       "\n",
       "   marital-status_Divorced  marital-status_Married-AF-spouse  \\\n",
       "0                    False                             False   \n",
       "1                    False                             False   \n",
       "2                    False                             False   \n",
       "3                    False                             False   \n",
       "4                    False                             False   \n",
       "\n",
       "   marital-status_Married-civ-spouse  marital-status_Married-spouse-absent  \\\n",
       "0                              False                                 False   \n",
       "1                              False                                 False   \n",
       "2                               True                                 False   \n",
       "3                               True                                 False   \n",
       "4                               True                                 False   \n",
       "\n",
       "   marital-status_Never-married  ...  relationship_Own-child  \\\n",
       "0                          True  ...                   False   \n",
       "1                          True  ...                    True   \n",
       "2                         False  ...                   False   \n",
       "3                         False  ...                   False   \n",
       "4                         False  ...                   False   \n",
       "\n",
       "   relationship_Unmarried  relationship_Wife  workclass_Federal-gov  \\\n",
       "0                    True              False                  False   \n",
       "1                   False              False                  False   \n",
       "2                   False              False                  False   \n",
       "3                   False              False                  False   \n",
       "4                   False              False                  False   \n",
       "\n",
       "   workclass_Local-gov  workclass_Private  workclass_Self-emp-inc  \\\n",
       "0                False               True                   False   \n",
       "1                False               True                   False   \n",
       "2                 True              False                   False   \n",
       "3                False               True                   False   \n",
       "4                False              False                   False   \n",
       "\n",
       "   workclass_Self-emp-not-inc  workclass_State-gov  workclass_Without-pay  \n",
       "0                       False                False                  False  \n",
       "1                       False                False                  False  \n",
       "2                       False                False                  False  \n",
       "3                       False                False                  False  \n",
       "4                        True                False                  False  \n",
       "\n",
       "[5 rows x 39 columns]"
      ]
     },
     "execution_count": 22,
     "metadata": {},
     "output_type": "execute_result"
    }
   ],
   "source": [
    "train_df, test_df = data.load_data()\n",
    "\n",
    "X_train_df, Y_train_df = train_df\n",
    "X_test_df, Y_test_df = test_df\n",
    "\n",
    "# Let's drop the protected attributes from the training and test data and store them in a\n",
    "# separate dataframe that we'll use later to train the individually fair metric.\n",
    "protected_vars = ['race_White', 'sex_Male']\n",
    "\n",
    "X_protected_df = X_train_df[protected_vars]\n",
    "X_train_df = X_train_df.drop(columns=protected_vars)\n",
    "X_test_df = X_test_df.drop(columns=protected_vars)\n",
    "\n",
    "# Create test data with spouse variable flipped\n",
    "X_test_df_spouse_flipped = X_test_df.copy()\n",
    "X_test_df_spouse_flipped.relationship_Wife = 1 - X_test_df_spouse_flipped.relationship_Wife\n",
    "\n",
    "X_train_df.head()"
   ]
  },
  {
   "cell_type": "code",
   "execution_count": 23,
   "metadata": {},
   "outputs": [],
   "source": [
    "device = torch.device('cpu')\n",
    "\n",
    "# Convert all pandas dataframes to PyTorch tensors\n",
    "X_train, y_train = data.convert_df_to_tensor(X_train_df, Y_train_df)\n",
    "X_test, y_test = data.convert_df_to_tensor(X_test_df, Y_test_df)\n",
    "X_test_flip, y_test_flip = data.convert_df_to_tensor(X_test_df_spouse_flipped, Y_test_df)\n",
    "X_protected = torch.tensor(X_protected_df.values).float()\n",
    "\n",
    "# Create the training and testing dataset\n",
    "train_ds = AdultDataset(X_train, y_train)\n",
    "test_ds = AdultDataset(X_test, y_test)\n",
    "test_ds_flip = AdultDataset(X_test_flip, y_test_flip)\n",
    "\n",
    "# Create train and test dataloaders\n",
    "train_dl = DataLoader(train_ds, batch_size=64, shuffle=True)\n",
    "test_dl = DataLoader(test_ds, batch_size=1000, shuffle=False)\n",
    "test_dl_flip = DataLoader(test_ds_flip, batch_size=1000, shuffle=False)"
   ]
  },
  {
   "attachments": {},
   "cell_type": "markdown",
   "metadata": {},
   "source": [
    "We test a Multilayer neural network as proposed in the IBM implementation example."
   ]
  },
  {
   "cell_type": "code",
   "execution_count": 24,
   "metadata": {},
   "outputs": [],
   "source": [
    "class Model(nn.Module):\n",
    "\n",
    "    def __init__(self, input_size, output_size):\n",
    "\n",
    "        super().__init__()\n",
    "        self.fc1 = nn.Linear(input_size, 100)\n",
    "        self.fc2 = nn.Linear(100, 100)\n",
    "        self.fcout = nn.Linear(100, output_size)\n",
    "\n",
    "    def forward(self, x):\n",
    "\n",
    "        x = F.relu(self.fc1(x))\n",
    "        x = F.relu(self.fc2(x))\n",
    "        x = self.fcout(x)\n",
    "        return x"
   ]
  },
  {
   "attachments": {},
   "cell_type": "markdown",
   "metadata": {},
   "source": [
    "### Standard training"
   ]
  },
  {
   "cell_type": "code",
   "execution_count": 25,
   "metadata": {},
   "outputs": [],
   "source": [
    "input_size = X_train.shape[1]\n",
    "output_size = 2\n",
    "\n",
    "network_standard = Model(input_size, output_size).to(device)\n",
    "optimizer = torch.optim.Adam(network_standard.parameters(), lr=1e-3)\n",
    "loss_fn = F.cross_entropy\n",
    "\n",
    "EPOCHS = 10"
   ]
  },
  {
   "cell_type": "code",
   "execution_count": 26,
   "metadata": {},
   "outputs": [
    {
     "name": "stderr",
     "output_type": "stream",
     "text": [
      "100%|██████████| 10/10 [00:08<00:00,  1.11it/s]\n"
     ]
    }
   ],
   "source": [
    "network_standard.train()\n",
    "\n",
    "for epoch in tqdm(range(EPOCHS)):\n",
    "\n",
    "    for x, y in train_dl:\n",
    "\n",
    "        x, y = x.to(device), y.to(device)\n",
    "        optimizer.zero_grad()\n",
    "        y_pred = network_standard(x).squeeze()\n",
    "        loss = loss_fn(y_pred, y)\n",
    "        loss.backward()\n",
    "        optimizer.step()"
   ]
  },
  {
   "cell_type": "code",
   "execution_count": 27,
   "metadata": {},
   "outputs": [
    {
     "name": "stdout",
     "output_type": "stream",
     "text": [
      "Accuracy: 0.8522777557373047\n",
      "Balanced accuracy: 0.7662106720522298\n",
      "Spouse consistency: 0.9380804953560371\n"
     ]
    }
   ],
   "source": [
    "accuracy = metrics.accuracy(network_standard, test_dl, device)\n",
    "balanced_acc = metrics.balanced_accuracy(network_standard, test_dl, device)\n",
    "spouse_consistency = metrics.spouse_consistency(network_standard, test_dl, test_dl_flip, device)\n",
    "\n",
    "print(f'Accuracy: {accuracy}')\n",
    "print(f'Balanced accuracy: {balanced_acc}')\n",
    "print(f'Spouse consistency: {spouse_consistency}')"
   ]
  },
  {
   "attachments": {},
   "cell_type": "markdown",
   "metadata": {},
   "source": [
    "We just drop sensitive column related to *race* and *gender* so why we need another fair-model? It isn't fair yet? The answer is: it is not! Although we drop sensitive columns, the dataset still contains information that give us a strong signal related to the excluded data. For example, 'relationship_Wife'.\"\n",
    "\n",
    "The 'spouse consistency' present a 0.7 inconsistency."
   ]
  },
  {
   "attachments": {},
   "cell_type": "markdown",
   "metadata": {},
   "source": [
    "[agregar nota]"
   ]
  },
  {
   "attachments": {},
   "cell_type": "markdown",
   "metadata": {},
   "source": [
    "### Individually fair training with LogReg fair metric in algorithmic way!"
   ]
  },
  {
   "attachments": {},
   "cell_type": "markdown",
   "metadata": {},
   "source": [
    "In the next section the author build a ML-fair model in the sense that their performance is invariant under certain perturbations in a sensitive subspace, that is: is robust to partial data variations, specifically the parts that are 'sensitive' in fair terms. They explain the motivations of their aproach with an example related to what are called **correspondence studies**: *to investigate whether a resume screening system is fair, an auditor may collect a stack of resumes and change the names on the resumes of Caucasian applicants to names more common among the African-American population. If the system performs worse on the edited resumes, then the auditor may conclude the model treats African-American applicants unfairly. Such investigations are known as correspondence studies.*"
   ]
  },
  {
   "attachments": {},
   "cell_type": "markdown",
   "metadata": {},
   "source": [
    "The authors propose a method to enforce individual fairness during the training of ML models. They treat fairness as a form of robustness - specifically, robustness to certain sensitive perturbations to the inputs or *sensitive subspace robustness*. This means that the model should still perform well even if the sensitive attributes of the input data are slightly changed: *We cast the fair training problem as training supervised learning systems that are robust to sensitive perturbations* (Yorouchkin, 2020)\n",
    "\n",
    "To achieve this, the authors use a method called *distributionally robust optimization*. This is a type of optimization that aims to find the best solution under the worst-case distribution of the input data. In this case, the worst-case distribution is one where the sensitive attributes have been perturbed."
   ]
  },
  {
   "attachments": {},
   "cell_type": "markdown",
   "metadata": {},
   "source": [
    "The proposed soluctions, named detects aggregate violations of individual fairness. Although the violations are related to indivudal instances an so are individual in nature, the soluctions is only able to detect aggregate violations. These implementations ensures that the ML model is fair not only on the training data but also on new data from the same distribution."
   ]
  },
  {
   "attachments": {},
   "cell_type": "markdown",
   "metadata": {},
   "source": [
    "## Learning fair metric from data"
   ]
  },
  {
   "attachments": {},
   "cell_type": "markdown",
   "metadata": {},
   "source": [
    "Need imputs that can by of three kainds: samples with protected attributes (ex. 'gendres', 'race', etc.), groups of comparable samples and pairs of comparable and incomparable samples. Mahalanobis distance.\n",
    "\n",
    "Case samples with protectec atributes: \n",
    "\n",
    "1- Learn 'sensitive directions' (with Logistic Regression), the result are vector: Vgender, Vrace, etc. \n",
    "2- Ignore the 'sensitive directions' in the fair metric. It means tath, when compute de distance do not compute the distance on some dimensions.  Supose that one 'sensitive directions' is gender, we fit a logistric regresion that separete the class (example: men and women), and then use the linear decision boundery (regresion coeficient) to select the vector  ortogonal to that decision boundary and, in a way, in doing that we eliminate separation women-men or turn the clases indecidible.  In fit the logistic regression the algorithm learn also what are good prodictor of gender, and in that way it could find hidden variables that has a strong predictor to gender in order to avoid it in the model. \n"
   ]
  },
  {
   "attachments": {},
   "cell_type": "markdown",
   "metadata": {},
   "source": [
    "# Training\n",
    "\n",
    "A *variant of adversarial training*: train model accurate on the available data and, importantly, data similar in the fair metric.\n",
    "\n",
    "Loop:    \n",
    "    1. Observed data.     \n",
    "    2. Audit model with DIF: find similar data where algorithm performs differently:    \n",
    "    3. Update model parameters to minimize prediction error and DIF   \n",
    "    4. Repeat   \n",
    "\n",
    "Loss function = Loss functions + DIF\n",
    "Minimize Loss functions\n",
    "\n",
    "Idea: Adversarial Robustness\n",
    "\n"
   ]
  },
  {
   "cell_type": "code",
   "execution_count": 30,
   "metadata": {},
   "outputs": [],
   "source": [
    "# Same architecture we found\n",
    "network_fair_LR = Model(input_size, output_size).to(device)\n",
    "optimizer = torch.optim.Adam(network_fair_LR.parameters(), lr=1e-3)\n",
    "lossfn = F.cross_entropy\n",
    "\n",
    "# set the distance metric for instances similiraty detections\n",
    "distance_x_LR = distances.LogisticRegSensitiveSubspace()\n",
    "distance_y = distances.SquaredEuclideanDistance()\n",
    "\n",
    "# train fair metric\n",
    "distance_x_LR.fit(X_train, data_SensitiveAttrs=X_protected)\n",
    "distance_y.fit(num_dims=output_size)\n",
    "\n",
    "distance_x_LR.to(device)\n",
    "distance_y.to(device)"
   ]
  },
  {
   "cell_type": "code",
   "execution_count": 31,
   "metadata": {},
   "outputs": [],
   "source": [
    "rho = 5.0\n",
    "eps = 0.1\n",
    "auditor_nsteps = 100\n",
    "auditor_lr = 1e-3\n",
    "\n",
    "fairalgo_LR = SenSeI(network_fair_LR, distance_x_LR, distance_y, lossfn, rho, eps, auditor_nsteps, auditor_lr)"
   ]
  },
  {
   "cell_type": "code",
   "execution_count": 12,
   "metadata": {},
   "outputs": [
    {
     "name": "stderr",
     "output_type": "stream",
     "text": [
      "100%|██████████| 10/10 [09:09<00:00, 54.97s/it]\n"
     ]
    }
   ],
   "source": [
    "# these time in traingin, the function to minimaize is the loss functionsn + fair metric (DIF)\n",
    "\n",
    "fairalgo_LR.train()\n",
    "\n",
    "for epoch in tqdm(range(EPOCHS)):\n",
    "    for x, y in train_dl:\n",
    "        x, y = x.to(device), y.to(device)\n",
    "        optimizer.zero_grad()\n",
    "        result = fairalgo_LR(x, y)\n",
    "        result.loss.backward()\n",
    "        optimizer.step()"
   ]
  },
  {
   "cell_type": "code",
   "execution_count": 13,
   "metadata": {},
   "outputs": [
    {
     "name": "stdout",
     "output_type": "stream",
     "text": [
      "Accuracy: 0.8383458852767944\n",
      "Balanced accuracy: 0.7367161855406339\n",
      "Spouse consistency: 0.9998894294559929\n"
     ]
    }
   ],
   "source": [
    "accuracy = metrics.accuracy(network_fair_LR, test_dl, device)\n",
    "balanced_acc = metrics.balanced_accuracy(network_fair_LR, test_dl, device)\n",
    "spouse_consistency = metrics.spouse_consistency(network_fair_LR, test_dl, test_dl_flip, device)\n",
    "\n",
    "print(f'Accuracy: {accuracy}')\n",
    "print(f'Balanced accuracy: {balanced_acc}')\n",
    "print(f'Spouse consistency: {spouse_consistency}')"
   ]
  },
  {
   "attachments": {},
   "cell_type": "markdown",
   "metadata": {},
   "source": [
    "# Emphasis:\n",
    "\n",
    "While we remove 'sensitive variables' (sex and race) the model learn what are the other directions related to those sensitive variables and minimace. The model is training to minimace error and remove effect of the sensitive directions. "
   ]
  },
  {
   "attachments": {},
   "cell_type": "markdown",
   "metadata": {},
   "source": [
    "### Individually fair training with EXPLORE metric"
   ]
  },
  {
   "cell_type": "code",
   "execution_count": 28,
   "metadata": {},
   "outputs": [
    {
     "name": "stderr",
     "output_type": "stream",
     "text": [
      "d:\\Users\\sebastian.castillo\\castillosebastian_colabs\\.castillocsebastian_colabs\\lib\\site-packages\\inFairness\\distances\\explore_distance.py:76: RuntimeWarning: overflow encountered in exp\n",
      "  sclVec = 2.0 / (np.exp(diag) - 1)\n"
     ]
    }
   ],
   "source": [
    "Y_gender = X_protected[:, -1]\n",
    "X1, X2, Y_pairs = data.create_data_pairs(X_train, y_train, Y_gender)\n",
    "\n",
    "distance_x_explore = distances.EXPLOREDistance()\n",
    "distance_x_explore.fit(X1, X2, Y_pairs, iters=1000, batchsize=10000)\n",
    "distance_x_explore.to(device)"
   ]
  },
  {
   "cell_type": "code",
   "execution_count": 32,
   "metadata": {},
   "outputs": [],
   "source": [
    "network_fair_explore = Model(input_size, output_size).to(device)\n",
    "optimizer = torch.optim.Adam(network_fair_explore.parameters(), lr=1e-3)\n",
    "lossfn = F.cross_entropy\n",
    "\n",
    "rho = 25.0\n",
    "eps = 0.1\n",
    "auditor_nsteps = 10\n",
    "auditor_lr = 1e-2\n",
    "\n",
    "fairalgo_explore = SenSeI(network_fair_explore, distance_x_explore, distance_y, lossfn, rho, eps, auditor_nsteps, auditor_lr)"
   ]
  },
  {
   "cell_type": "code",
   "execution_count": 33,
   "metadata": {},
   "outputs": [
    {
     "name": "stderr",
     "output_type": "stream",
     "text": [
      "100%|██████████| 10/10 [01:17<00:00,  7.71s/it]\n"
     ]
    }
   ],
   "source": [
    "fairalgo_explore.train()\n",
    "\n",
    "for epoch in tqdm(range(EPOCHS)):\n",
    "    for x, y in train_dl:\n",
    "        x, y = x.to(device), y.to(device)\n",
    "        optimizer.zero_grad()\n",
    "        result = fairalgo_explore(x, y)\n",
    "        result.loss.backward()\n",
    "        optimizer.step()"
   ]
  },
  {
   "cell_type": "code",
   "execution_count": 16,
   "metadata": {},
   "outputs": [
    {
     "name": "stdout",
     "output_type": "stream",
     "text": [
      "Accuracy: 0.8225342631340027\n",
      "Balanced accuracy: 0.7034968962244807\n",
      "Spouse consistency: 1.0\n"
     ]
    }
   ],
   "source": [
    "accuracy = metrics.accuracy(network_fair_explore, test_dl, device)\n",
    "balanced_acc = metrics.balanced_accuracy(network_fair_explore, test_dl, device)\n",
    "spouse_consistency = metrics.spouse_consistency(network_fair_explore, test_dl, test_dl_flip, device)\n",
    "\n",
    "print(f'Accuracy: {accuracy}')\n",
    "print(f'Balanced accuracy: {balanced_acc}')\n",
    "print(f'Spouse consistency: {spouse_consistency}')"
   ]
  },
  {
   "attachments": {},
   "cell_type": "markdown",
   "metadata": {},
   "source": [
    "#### Let's now audit the three models and check for their individual fairness compliance"
   ]
  },
  {
   "cell_type": "code",
   "execution_count": 17,
   "metadata": {},
   "outputs": [
    {
     "name": "stderr",
     "output_type": "stream",
     "text": [
      "/home/sebacastillo/.castillosebastian_colabs/lib/python3.9/site-packages/inFairness/auditor/auditor.py:54: RuntimeWarning: invalid value encountered in divide\n",
      "  loss_ratio = np.divide(loss_vals_adversarial, loss_vals_original)\n"
     ]
    },
    {
     "name": "stdout",
     "output_type": "stream",
     "text": [
      "====================================================================================================\n",
      "LR metric\n",
      "Loss ratio (Standard model) : 2.660843321695338. Is model fair: False\n",
      "Loss ratio (fair model - LogReg metric) : 1.0569381426130153. Is model fair: True\n",
      "Loss ratio (fair model - EXPLORE metric) : 1.027237853086672. Is model fair: True\n",
      "----------------------------------------------------------------------------------------------------\n",
      "\t As signified by these numbers, the fair models are fairer than the standard model\n",
      "====================================================================================================\n"
     ]
    }
   ],
   "source": [
    "# Auditing using the SenSR Auditor + LR metric\n",
    "\n",
    "audit_nsteps = 1000\n",
    "audit_lr = 0.1\n",
    "\n",
    "auditor_LR = SenSRAuditor(loss_fn=loss_fn, distance_x=distance_x_LR, num_steps=audit_nsteps, lr=audit_lr, max_noise=0.5, min_noise=-0.5)\n",
    "\n",
    "audit_result_stdmodel = auditor_LR.audit(network_standard, X_test, y_test, lambda_param=10.0, audit_threshold=1.15)\n",
    "audit_result_fairmodel_LR = auditor_LR.audit(network_fair_LR, X_test, y_test, lambda_param=10.0, audit_threshold=1.15)\n",
    "audit_result_fairmodel_explore = auditor_LR.audit(network_fair_explore, X_test, y_test, lambda_param=10.0, audit_threshold=1.15)\n",
    "\n",
    "print(\"=\"*100)\n",
    "print(\"LR metric\")\n",
    "print(f\"Loss ratio (Standard model) : {audit_result_stdmodel.lower_bound}. Is model fair: {audit_result_stdmodel.is_model_fair}\")\n",
    "print(f\"Loss ratio (fair model - LogReg metric) : {audit_result_fairmodel_LR.lower_bound}. Is model fair: {audit_result_fairmodel_LR.is_model_fair}\")\n",
    "print(f\"Loss ratio (fair model - EXPLORE metric) : {audit_result_fairmodel_explore.lower_bound}. Is model fair: {audit_result_fairmodel_explore.is_model_fair}\")\n",
    "print(\"-\"*100)\n",
    "print(\"\\t As signified by these numbers, the fair models are fairer than the standard model\")\n",
    "print(\"=\"*100)"
   ]
  },
  {
   "cell_type": "code",
   "execution_count": 18,
   "metadata": {},
   "outputs": [
    {
     "name": "stdout",
     "output_type": "stream",
     "text": [
      "====================================================================================================\n",
      "EXPLORE metric\n",
      "Loss ratio (Standard model) : 4.319292031489292. Is model fair: False\n",
      "Loss ratio (fair model - LogReg metric) : 1.13404923721215. Is model fair: True\n",
      "Loss ratio (fair model - EXPLORE metric) : 1.0724120239938144. Is model fair: True\n",
      "----------------------------------------------------------------------------------------------------\n",
      "\t As signified by these numbers, the fair models are fairer than the standard model\n",
      "====================================================================================================\n"
     ]
    }
   ],
   "source": [
    "# Auditing using the SenSR Auditor + EXPLORE metric\n",
    "\n",
    "audit_nsteps = 1000\n",
    "audit_lr = 0.1\n",
    "\n",
    "auditor_explore = SenSRAuditor(loss_fn=loss_fn, distance_x=distance_x_explore, num_steps=audit_nsteps, lr=audit_lr, max_noise=0.5, min_noise=-0.5)\n",
    "\n",
    "audit_result_stdmodel = auditor_explore.audit(network_standard, X_test, y_test, lambda_param=10.0, audit_threshold=1.15)\n",
    "audit_result_fairmodel_LR = auditor_explore.audit(network_fair_LR, X_test, y_test, lambda_param=10.0, audit_threshold=1.15)\n",
    "audit_result_fairmodel_explore = auditor_explore.audit(network_fair_explore, X_test, y_test, lambda_param=10.0, audit_threshold=1.15)\n",
    "\n",
    "print(\"=\"*100)\n",
    "print(\"EXPLORE metric\")\n",
    "print(f\"Loss ratio (Standard model) : {audit_result_stdmodel.lower_bound}. Is model fair: {audit_result_stdmodel.is_model_fair}\")\n",
    "print(f\"Loss ratio (fair model - LogReg metric) : {audit_result_fairmodel_LR.lower_bound}. Is model fair: {audit_result_fairmodel_LR.is_model_fair}\")\n",
    "print(f\"Loss ratio (fair model - EXPLORE metric) : {audit_result_fairmodel_explore.lower_bound}. Is model fair: {audit_result_fairmodel_explore.is_model_fair}\")\n",
    "print(\"-\"*100)\n",
    "print(\"\\t As signified by these numbers, the fair models are fairer than the standard model\")\n",
    "print(\"=\"*100)"
   ]
  },
  {
   "attachments": {},
   "cell_type": "markdown",
   "metadata": {},
   "source": []
  }
 ],
 "metadata": {
  "kernelspec": {
   "display_name": "Python 3.8.13 ('infairness')",
   "language": "python",
   "name": "python3"
  },
  "language_info": {
   "codemirror_mode": {
    "name": "ipython",
    "version": 3
   },
   "file_extension": ".py",
   "mimetype": "text/x-python",
   "name": "python",
   "nbconvert_exporter": "python",
   "pygments_lexer": "ipython3",
   "version": "3.10.1"
  },
  "vscode": {
   "interpreter": {
    "hash": "a2fcd21fd76dae422ddd233e5f13f95d1b9f33f06ee3b038abc60116b464585a"
   }
  }
 },
 "nbformat": 4,
 "nbformat_minor": 4
}
